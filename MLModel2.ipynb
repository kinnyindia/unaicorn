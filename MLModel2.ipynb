{
 "cells": [
  {
   "cell_type": "code",
   "execution_count": null,
   "id": "984aad67",
   "metadata": {},
   "outputs": [],
   "source": [
    "import pandas as pd\n",
    "import pickle\n",
    "from sklearn.ensemble import RandomForestClassifier\n",
    "from sklearn.metrics import accuracy_score\n",
    "from sklearn.model_selection import train_test_split\n",
    "\n",
    "df= pd.read_csv('train.csv')\n",
    "\n",
    "def get_title(name):\n",
    "    if '.' in name:\n",
    "        return name.split(',')[1].split('.')[0].strip()\n",
    "    else:\n",
    "        return 'no title'\n",
    "    \n",
    "\n",
    "def shorter_title(x):\n",
    "    title=x['Title']\n",
    "    if title in['Capt','Col','Major']:\n",
    "        return 'Officer'\n",
    "    elif title in['Jonkheer','Don','Lady','Master','the Countess','Rev']:\n",
    "        return 'Royalty'\n",
    "    elif title in['Miss','Mlle','Mme','Mrs','Ms']:\n",
    "        return \"Miss\"\n",
    "    elif title in ['Sir','Mr']:\n",
    "        return 'Mr'\n",
    "    else:\n",
    "        return  title\n",
    "\n",
    "df['Title']=df['Name'].map(lambda x: get_title(x))\n",
    "df['Title']=df.apply(shorter_title, axis=1)\n",
    "df.drop('Name', axis=1, inplace=True)\n",
    "df.drop('Ticket', axis=1, inplace=True)\n",
    "df.drop('Cabin', axis=1, inplace=True)\n",
    "df['Age'].fillna(df['Age'].median(), inplace=True)\n",
    "df['Fare'].fillna(df['Fare'].median(), inplace=True)\n",
    "df['Embarked'].fillna('S', inplace=True)\n",
    "df.Sex.replace(('male','female'),(0,1), inplace=True)\n",
    "df.Embarked.replace(('S','C','Q'),(0,1,2), inplace=True)\n",
    "df.Title.replace(('Mr','Miss','Royalty','Dr','Officer'),(0,1,2,3,4), inplace=True)\n",
    "\n",
    "y=df['Survived']\n",
    "x=df.drop(['Survived', 'PassengerId'], axis=1)\n",
    "\n",
    "xtrain, xval, ytrain, yval=train_test_split(x,y,test_size=0.1)\n",
    "\n",
    "randomforest=RandomForestClassifier()\n",
    "randomforest.fit(xtrain.values, ytrain.values)\n",
    "pickle.dump(randomforest,open('titanic_model.sav','wb'))\n",
    "\n"
   ]
  }
 ],
 "metadata": {
  "kernelspec": {
   "display_name": "Python 3 (ipykernel)",
   "language": "python",
   "name": "python3"
  },
  "language_info": {
   "codemirror_mode": {
    "name": "ipython",
    "version": 3
   },
   "file_extension": ".py",
   "mimetype": "text/x-python",
   "name": "python",
   "nbconvert_exporter": "python",
   "pygments_lexer": "ipython3",
   "version": "3.10.9"
  }
 },
 "nbformat": 4,
 "nbformat_minor": 5
}
